{
 "cells": [
  {
   "cell_type": "code",
   "execution_count": 1,
   "metadata": {
    "collapsed": true
   },
   "outputs": [],
   "source": [
    "from entity.nfa import NFA\n",
    "from entity.dfa import DFA\n",
    "from entity.source_generator import SourceGenerator\n",
    "nfa = NFA(\"((a,b)|)*\", postfix=True)"
   ]
  },
  {
   "cell_type": "code",
   "execution_count": 2,
   "outputs": [],
   "source": [
    "dfa = DFA(nfa)"
   ],
   "metadata": {
    "collapsed": false,
    "pycharm": {
     "name": "#%%\n"
    }
   }
  },
  {
   "cell_type": "code",
   "execution_count": 3,
   "outputs": [],
   "source": [
    "# dfa.draw_with_graphviz(\"../res/\", \"dfa_figure.jpg\")"
   ],
   "metadata": {
    "collapsed": false,
    "pycharm": {
     "name": "#%%\n"
    }
   }
  },
  {
   "cell_type": "code",
   "execution_count": 4,
   "outputs": [
    {
     "name": "stdout",
     "output_type": "stream",
     "text": [
      "#include <iostream>\n",
      "using namespace std;\n",
      "\n",
      "#define MAX_TARGET_LEN 50\n",
      "void print_err(int cur_char) {\n",
      "    cout << \"error! (at index \" << cur_char << \")\" << endl;\n",
      "}\n",
      "\n",
      "void match(char tar) {\n",
      "    cout << \"match \" << tar << \"!\" << endl;\n",
      "}\n",
      "int main() {\n",
      "    cout << \"input a string:\" << endl;\n",
      "    char target[MAX_TARGET_LEN];\n",
      "    cin >> target;\n",
      "\n",
      "    int cur_char = 0;  //当前字符标记\n",
      "    int flag = 0;  //状态标记\n",
      "    while (flag >= 0) {\n",
      "        switch (flag) {\n",
      "case 0: {\n",
      "switch (target[cur_char]) {\n",
      "case 'a': {\n",
      "match(target[cur_char]);\n",
      "cur_char++;\n",
      "flag = 1;\n",
      "break;\n",
      "}\n",
      "case 'b': {\n",
      "match(target[cur_char]);\n",
      "cur_char++;\n",
      "flag = 2;\n",
      "break;\n",
      "}\n",
      "default: {\n",
      "                        print_err(cur_char);\n",
      "                        flag = -1;\n",
      "                        break;\n",
      "                    }\n",
      "}\n",
      "break;\n",
      "}\n",
      "case 1: {\n",
      "switch (target[cur_char]) {\n",
      "case 'a': {\n",
      "match(target[cur_char]);\n",
      "cur_char++;\n",
      "flag = 1;\n",
      "break;\n",
      "}\n",
      "case 'b': {\n",
      "match(target[cur_char]);\n",
      "cur_char++;\n",
      "flag = 2;\n",
      "break;\n",
      "}\n",
      "default: {\n",
      "                        print_err(cur_char);\n",
      "                        flag = -1;\n",
      "                        break;\n",
      "                    }\n",
      "}\n",
      "break;\n",
      "}\n",
      "case 2: {\n",
      "switch (target[cur_char]) {\n",
      "case 'a': {\n",
      "match(target[cur_char]);\n",
      "cur_char++;\n",
      "flag = 1;\n",
      "break;\n",
      "}\n",
      "case 'b': {\n",
      "match(target[cur_char]);\n",
      "cur_char++;\n",
      "flag = 2;\n",
      "break;\n",
      "}\n",
      "default: {\n",
      "                        print_err(cur_char);\n",
      "                        flag = -1;\n",
      "                        break;\n",
      "                    }\n",
      "}\n",
      "break;\n",
      "}\n",
      "\n",
      "        }\n",
      "    }\n",
      "    return 0;\n",
      "}\n"
     ]
    }
   ],
   "source": [
    "sg = SourceGenerator(dfa)\n",
    "print(sg.cpp_source)"
   ],
   "metadata": {
    "collapsed": false,
    "pycharm": {
     "name": "#%%\n"
    }
   }
  },
  {
   "cell_type": "code",
   "execution_count": 4,
   "outputs": [],
   "source": [],
   "metadata": {
    "collapsed": false,
    "pycharm": {
     "name": "#%%\n"
    }
   }
  }
 ],
 "metadata": {
  "kernelspec": {
   "display_name": "Python 3",
   "language": "python",
   "name": "python3"
  },
  "language_info": {
   "codemirror_mode": {
    "name": "ipython",
    "version": 2
   },
   "file_extension": ".py",
   "mimetype": "text/x-python",
   "name": "python",
   "nbconvert_exporter": "python",
   "pygments_lexer": "ipython2",
   "version": "2.7.6"
  }
 },
 "nbformat": 4,
 "nbformat_minor": 0
}